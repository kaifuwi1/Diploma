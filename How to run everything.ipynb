{
 "cells": [
  {
   "cell_type": "markdown",
   "id": "c6af69e3",
   "metadata": {},
   "source": [
    "## Training models"
   ]
  },
  {
   "cell_type": "code",
   "execution_count": null,
   "id": "8G7bStWrwTSt",
   "metadata": {
    "colab": {
     "base_uri": "https://localhost:8080/"
    },
    "executionInfo": {
     "elapsed": 1125489,
     "status": "ok",
     "timestamp": 1747185974923,
     "user": {
      "displayName": "Dias Begaly",
      "userId": "03460946048728616576"
     },
     "user_tz": -300
    },
    "id": "8G7bStWrwTSt",
    "outputId": "d57a79ae-0467-4966-e303-2d65307f6d44"
   },
   "outputs": [
    {
     "name": "stdout",
     "output_type": "stream",
     "text": [
      "/usr/local/lib/python3.10/site-packages/google/colab/data_table.py:30: UserWarning: IPython.utils.traitlets has moved to a top-level traitlets package.\n",
      "  from IPython.utils import traitlets as _traitlets\n",
      "2025-05-14 01:07:36,883 INFO: Using device: cuda\n",
      "2025-05-14 01:07:37,205 INFO: Computing hand-crafted features …\n",
      "2025-05-14 01:12:01,136 INFO: Creating sentiment pipeline on device None …\n",
      "2025-05-14 01:12:01,709 INFO: Computing sentiment …\n",
      "2025-05-14 01:12:57,473 INFO: Computing named-entity counts …\n",
      "2025-05-14 01:16:12,372 INFO: Hybrid features added and CSVs updated.\n",
      "2025-05-14 01:16:13,403 INFO: Model 'hybrid' params: 66,364,446\n",
      "2025-05-14 01:16:13,404 INFO: HybridModel parameters: 66,364,446\n",
      "2025-05-14 01:18:01,907 INFO: Epoch 1/5  train loss: 0.0571\n",
      "2025-05-14 01:18:07,933 INFO: Val acc=0.8113, fake-F1=0.6497\n",
      "2025-05-14 01:18:08,576 INFO: Saved new best hybrid model → hybrid1_best.pt\n",
      "2025-05-14 01:20:02,079 INFO: Epoch 2/5  train loss: 0.0437\n",
      "2025-05-14 01:20:08,515 INFO: Val acc=0.7586, fake-F1=0.6405\n",
      "2025-05-14 01:22:02,930 INFO: Epoch 3/5  train loss: 0.0342\n",
      "2025-05-14 01:22:09,396 INFO: Val acc=0.8140, fake-F1=0.6910\n",
      "2025-05-14 01:22:10,081 INFO: Saved new best hybrid model → hybrid1_best.pt\n",
      "2025-05-14 01:24:04,489 INFO: Epoch 4/5  train loss: 0.0247\n",
      "2025-05-14 01:24:10,960 INFO: Val acc=0.8217, fake-F1=0.6999\n",
      "2025-05-14 01:24:11,630 INFO: Saved new best hybrid model → hybrid1_best.pt\n",
      "2025-05-14 01:26:06,046 INFO: Epoch 5/5  train loss: 0.0180\n",
      "2025-05-14 01:26:12,479 INFO: Val acc=0.8535, fake-F1=0.7333\n",
      "2025-05-14 01:26:13,104 INFO: Saved new best hybrid model → hybrid1_best.pt\n",
      "2025-05-14 01:26:13,804 INFO: Saved curves → /content/drive/MyDrive/FakeNewNet/src/outputs/hybrid\n"
     ]
    }
   ],
   "source": [
    "# Baseline (5 эпохи)\n",
    "!python /src/train.py --model baseline --epochs 5\n",
    "\n",
    "# # BiGRU-head (5 эпох)\n",
    "!python /src/train.py --model bigru   --epochs 5\n",
    "\n",
    "# # CNN-head (5 эпох)\n",
    "!python /src/train.py --model cnn     --epochs 5\n",
    "\n",
    "# Hybrid (5 эпох)\n",
    "! python /src/train_hybrid.py --epochs 5 --batch_size 16 --lr 2e-5 --device auto\n",
    "\n"
   ]
  },
  {
   "cell_type": "markdown",
   "id": "60d78f45",
   "metadata": {},
   "source": [
    "## Определение важности токенов на примере"
   ]
  },
  {
   "cell_type": "code",
   "execution_count": 3,
   "id": "HBQfTABTBubm",
   "metadata": {
    "colab": {
     "base_uri": "https://localhost:8080/"
    },
    "executionInfo": {
     "elapsed": 20862,
     "status": "ok",
     "timestamp": 1747186388475,
     "user": {
      "displayName": "Dias Begaly",
      "userId": "03460946048728616576"
     },
     "user_tz": -300
    },
    "id": "HBQfTABTBubm",
    "outputId": "abf44610-2de9-4755-a483-6c9e59cb1cce"
   },
   "outputs": [
    {
     "name": "stdout",
     "output_type": "stream",
     "text": [
      "[('this', 0.016343802213668823), ('is', 0.011878392659127712), ('a', 0.008677235804498196), ('sample', -0.04982737451791763), ('news', -0.0007279198616743088), ('article', 0.09877806901931763), ('to', -0.06826497614383698), ('explain', -0.0393950417637825), ('.', 0.02972937934100628)]\n"
     ]
    }
   ],
   "source": [
    "# в интерактивном cell Colab, или в отдельном скрипте:\n",
    "from transformers import AutoTokenizer\n",
    "import torch\n",
    "import sys\n",
    "sys.path.append(\"/content/drive/MyDrive/FakeNewNet\")\n",
    "\n",
    "from src.viz import get_token_importance\n",
    "from src.models import get_model\n",
    "from src.config import PRETRAINED_MODEL_NAME\n",
    "\n",
    "device = \"cuda\" if torch.cuda.is_available() else \"cpu\"\n",
    "tokenizer = AutoTokenizer.from_pretrained(PRETRAINED_MODEL_NAME)\n",
    "\n",
    "model = get_model(\"hybrid\").to(device)\n",
    "model.load_state_dict(torch.load(\"/content/drive/MyDrive/FakeNewNet/src/outputs/hybrid_best.pt\"))\n",
    "tokens_imp = get_token_importance(model, tokenizer, \"This is a sample news article to explain.\", device=device)\n",
    "print(tokens_imp)\n"
   ]
  },
  {
   "cell_type": "code",
   "execution_count": 4,
   "id": "4WtusevkM0fq",
   "metadata": {
    "colab": {
     "base_uri": "https://localhost:8080/",
     "height": 407
    },
    "executionInfo": {
     "elapsed": 316,
     "status": "ok",
     "timestamp": 1747186409359,
     "user": {
      "displayName": "Dias Begaly",
      "userId": "03460946048728616576"
     },
     "user_tz": -300
    },
    "id": "4WtusevkM0fq",
    "outputId": "bfb31a49-0f63-4ad4-e444-42064d45288d"
   },
   "outputs": [
    {
     "data": {
      "image/png": "[encoded data removed]",
      "text/plain": [
       "<Figure size 800x400 with 1 Axes>"
      ]
     },
     "metadata": {},
     "output_type": "display_data"
    }
   ],
   "source": [
    "import matplotlib.pyplot as plt\n",
    "\n",
    "tokens, scores = zip(*tokens_imp)\n",
    "plt.figure(figsize=(8,4))\n",
    "plt.bar(range(len(tokens)), scores, color=['red' if s<0 else 'green' for s in scores])\n",
    "plt.xticks(range(len(tokens)), tokens, rotation=45)\n",
    "plt.ylabel(\"Attribution score\")\n",
    "plt.title(\"Token importance\")\n",
    "plt.tight_layout()\n",
    "plt.show()\n"
   ]
  },
  {
   "cell_type": "markdown",
   "id": "7e868004",
   "metadata": {},
   "source": [
    "## Saving metrics/Perfomance of models"
   ]
  },
  {
   "cell_type": "code",
   "execution_count": null,
   "id": "ir2zsDxegpM-",
   "metadata": {
    "id": "ir2zsDxegpM-"
   },
   "outputs": [],
   "source": [
    "!python /src/run_ablation.py"
   ]
  },
  {
   "cell_type": "code",
   "execution_count": null,
   "id": "qiUmv74-55ld",
   "metadata": {
    "colab": {
     "base_uri": "https://localhost:8080/"
    },
    "executionInfo": {
     "elapsed": 1063240,
     "status": "ok",
     "timestamp": 1747168323918,
     "user": {
      "displayName": "Dias Begaly",
      "userId": "03460946048728616576"
     },
     "user_tz": -300
    },
    "id": "qiUmv74-55ld",
    "outputId": "2236b7b4-2110-499d-85d0-0d013666eef4"
   },
   "outputs": [
    {
     "name": "stdout",
     "output_type": "stream",
     "text": [
      "📊 Benchmark …\n",
      "baseline cpu: 262.67 ms/article\n",
      "baseline cuda: 5.89 ms/article\n",
      "bigru    cpu: 262.36 ms/article\n",
      "bigru    cuda: 6.69 ms/article\n",
      "/usr/local/lib/python3.10/site-packages/torch/nn/modules/conv.py:370: UserWarning: Using padding='same' with even kernel lengths and odd dilation may require a zero-padded copy of the input be created (Triggered internally at /pytorch/aten/src/ATen/native/Convolution.cpp:1036.)\n",
      "  return F.conv1d(\n",
      "cnn      cpu: 248.41 ms/article\n",
      "cnn      cuda: 6.56 ms/article\n",
      "hybrid   cpu: 248.81 ms/article\n",
      "hybrid   cuda: 6.46 ms/article\n",
      "✅ benchmark.csv → /content/drive/MyDrive/FakeNewNet/src/outputs/benchmark.csv\n"
     ]
    }
   ],
   "source": [
    "!python /src/benchmark.py"
   ]
  },
  {
   "cell_type": "code",
   "execution_count": null,
   "id": "Ceo9Rwzya-NP",
   "metadata": {
    "colab": {
     "base_uri": "https://localhost:8080/"
    },
    "executionInfo": {
     "elapsed": 89705,
     "status": "ok",
     "timestamp": 1747170497872,
     "user": {
      "displayName": "Dias Begaly",
      "userId": "03460946048728616576"
     },
     "user_tz": -300
    },
    "id": "Ceo9Rwzya-NP",
    "outputId": "afaba3b8-0a0d-4c8f-8a45-0e76cae44f96"
   },
   "outputs": [
    {
     "name": "stdout",
     "output_type": "stream",
     "text": [
      "{\"accuracy\": 0.8535, \"macro_F1\": 0.8162, \"precision_real\": 0.9311, \"recall_real\": 0.8692, \"f1_real\": 0.8991, \"precision_fake\": 0.6722, \"recall_fake\": 0.8066, \"f1_fake\": 0.7333, \"roc_auc\": 0.9118, \"pr_auc\": 0.823}\n",
      "saved /content/drive/MyDrive/FakeNewNet/src/outputs/hybrid/cm_hybrid.png\n",
      "saved /content/drive/MyDrive/FakeNewNet/src/outputs/hybrid/pr_hybrid.png\n",
      "{\"accuracy\": 0.8338, \"macro_F1\": 0.7799, \"precision_real\": 0.8924, \"recall_real\": 0.8852, \"f1_real\": 0.8888, \"precision_fake\": 0.6631, \"recall_fake\": 0.6791, \"f1_fake\": 0.671, \"roc_auc\": 0.8661, \"pr_auc\": 0.7581}\n",
      "saved /content/drive/MyDrive/FakeNewNet/src/outputs/baseline/cm_baseline.png\n",
      "saved /content/drive/MyDrive/FakeNewNet/src/outputs/baseline/pr_baseline.png\n",
      "{\"accuracy\": 0.8223, \"macro_F1\": 0.7719, \"precision_real\": 0.8979, \"recall_real\": 0.8611, \"f1_real\": 0.8791, \"precision_fake\": 0.6282, \"recall_fake\": 0.7055, \"f1_fake\": 0.6646, \"roc_auc\": 0.8646, \"pr_auc\": 0.7552}\n",
      "saved /content/drive/MyDrive/FakeNewNet/src/outputs/bigru/cm_bigru.png\n",
      "saved /content/drive/MyDrive/FakeNewNet/src/outputs/bigru/pr_bigru.png\n",
      "/usr/local/lib/python3.10/site-packages/torch/nn/modules/conv.py:370: UserWarning: Using padding='same' with even kernel lengths and odd dilation may require a zero-padded copy of the input be created (Triggered internally at /pytorch/aten/src/ATen/native/Convolution.cpp:1036.)\n",
      "  return F.conv1d(\n",
      "{\"accuracy\": 0.831, \"macro_F1\": 0.7793, \"precision_real\": 0.8961, \"recall_real\": 0.8765, \"f1_real\": 0.8862, \"precision_fake\": 0.6515, \"recall_fake\": 0.6945, \"f1_fake\": 0.6723, \"roc_auc\": 0.8668, \"pr_auc\": 0.7557}\n",
      "saved /content/drive/MyDrive/FakeNewNet/src/outputs/cnn/cm_cnn.png\n",
      "saved /content/drive/MyDrive/FakeNewNet/src/outputs/cnn/pr_cnn.png\n"
     ]
    }
   ],
   "source": [
    "!python /src/evaluate.py \\\n",
    "       --model hybrid \\\n",
    "       --ckpt /src/outputs/hybrid_best.pt \\\n",
    "       --save_pr\n",
    "\n",
    "\n",
    "!python /src/evaluate.py \\\n",
    "       --model baseline \\\n",
    "       --ckpt /src/outputs/baseline_best.pt \\\n",
    "       --save_pr\n",
    "\n",
    "\n",
    "!python /src/evaluate.py \\\n",
    "       --model bigru \\\n",
    "       --ckpt /src/outputs/bigru_best.pt \\\n",
    "       --save_pr\n",
    "\n",
    "\n",
    "!python /src/evaluate.py \\\n",
    "       --model cnn \\\n",
    "       --ckpt /src/outputs/cnn_best.pt \\\n",
    "       --save_pr\n"
   ]
  },
  {
   "cell_type": "markdown",
   "id": "47ccca67",
   "metadata": {},
   "source": [
    "### Getting results of a random news article"
   ]
  },
  {
   "cell_type": "code",
   "execution_count": null,
   "id": "CBg2GUDhcYpN",
   "metadata": {
    "colab": {
     "base_uri": "https://localhost:8080/"
    },
    "executionInfo": {
     "elapsed": 10065,
     "status": "ok",
     "timestamp": 1747165260208,
     "user": {
      "displayName": "Dias Begaly",
      "userId": "03460946048728616576"
     },
     "user_tz": -300
    },
    "id": "CBg2GUDhcYpN",
    "outputId": "c9a6086d-4698-4fbf-dbdc-513ab5038f2c"
   },
   "outputs": [
    {
     "name": "stdout",
     "output_type": "stream",
     "text": [
      "Result: real \n",
      "\n",
      "✅ fake-wordcloud saved → /content/drive/MyDrive/FakeNewNet/src/outputs/cloud.png\n",
      "✅ HTML highlight saved → /content/drive/MyDrive/FakeNewNet/src/outputs/explain.html\n",
      "✅  Outputs saved to /content/drive/MyDrive/FakeNewNet/src/outputs\n",
      "    cloud.png\n",
      "    explain.html\n"
     ]
    }
   ],
   "source": [
    "!python /src/explain_sample.py --ckpt /src/outputs/hybrid_best.pt --text /src/text.txt"
   ]
  }
 ],
 "metadata": {
  "accelerator": "GPU",
  "colab": {
   "gpuType": "L4",
   "machine_shape": "hm",
   "provenance": []
  },
  "kernelspec": {
   "display_name": "Python 3",
   "name": "python3"
  },
  "language_info": {
   "codemirror_mode": {
    "name": "ipython",
    "version": 3
   },
   "file_extension": ".py",
   "mimetype": "text/x-python",
   "name": "python",
   "nbconvert_exporter": "python",
   "pygments_lexer": "ipython3",
   "version": "3.10.0"
  }
 },
 "nbformat": 4,
 "nbformat_minor": 5
}
